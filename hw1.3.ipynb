{
 "cells": [
  {
   "cell_type": "code",
   "execution_count": null,
   "id": "c436d374",
   "metadata": {},
   "outputs": [],
   "source": [
    "import matplotlib.pyplot as plt\n",
    "import numpy as np\n",
    "import os\n",
    "import scipy.io\n",
    "plt.rcParams['figure.figsize'] = [16, 8]\n",
    "plt.rcParams.update({'font.size': 18})\n",
    "\n",
    "mat_contents = scipy.io.loadmat(os.path.join('allFaces.mat'))\n",
    "faces = mat_contents['faces']\n",
    "m = int(mat_contents['m'])\n",
    "#print(\"m\", m)\n",
    "n = int(mat_contents['n'])\n",
    "#print(\"n\", n)\n",
    "nfaces = np.ndarray.flatten(mat_contents['nfaces'])\n",
    "\n",
    "allPersons = np.zeros((n*6,m*6))\n",
    "count = 0\n",
    "\n",
    "for j in range(6):\n",
    "    for k in range(6):\n",
    "        allPersons[j*n : (j+1)*n, k*m : (k+1)*m] = np.reshape(faces[:,np.sum(nfaces[:count])],(m,n)).T\n",
    "        count += 1\n",
    "        \n",
    "img = plt.imshow(allPersons)\n",
    "#print(allPersons.shape)\n",
    "img.set_cmap('gray')\n",
    "plt.axis('off')\n",
    "plt.show()\n",
    "\n",
    "#crop_allPersons = allPersons[0:n,0:m]  #only select one face \n",
    "\n",
    "#img = plt.imshow(crop_allPersons)\n",
    "#img.set_cmap('gray')\n",
    "#plt.axis('off')\n",
    "#plt.show()\n",
    "\n"
   ]
  },
  {
   "cell_type": "code",
   "execution_count": null,
   "id": "950268ef",
   "metadata": {},
   "outputs": [],
   "source": [
    "allFaces_1 = np.zeros((n*8,m*8,len(nfaces)))\n",
    "i = 0\n",
    "for person in range(len(nfaces)):\n",
    "    subset = faces[:,sum(nfaces[:person]) : sum(nfaces[:(person+1)])]\n",
    "    allFaces = np.zeros((n*8,m*8))\n",
    "    count = 0\n",
    "    \n",
    "    for j in range(8):\n",
    "        for k in range(8):\n",
    "            if count < nfaces[person]:\n",
    "                allFaces[j*n:(j+1)*n,k*m:(k+1)*m] = np.reshape(subset[:,count],(m,n)).T\n",
    "                count += 1\n",
    "              \n",
    "    allFaces_1[:,:,i] = allFaces \n",
    "    i += 1\n",
    "\n",
    "#select only one person\n",
    "avgFace = np.mean(allFaces_1[:,:,0],axis=1)\n",
    "X = allFaces_1[:,:,0] - np.tile(avgFace,(allFaces_1[:,:,0].shape[1],1)).T\n",
    "print(np.shape(X))\n",
    "img = plt.imshow(X)\n",
    "img.set_cmap('gray')\n",
    "plt.axis('off')\n",
    "plt.show()"
   ]
  },
  {
   "cell_type": "code",
   "execution_count": null,
   "id": "1896a3ef",
   "metadata": {},
   "outputs": [],
   "source": [
    "#compute the economy SVD \n",
    "\n",
    "U, S, VT = np.linalg.svd(X,full_matrices=False) #ecomony svd\n",
    "S_diag = np.diag(S)\n",
    "#print(\"S\", np.shape(S))\n",
    "#print(\"U\", U)\n",
    "print(\"U shape \", np.shape(U))\n",
    "#n,m = np.shape(U)\n"
   ]
  },
  {
   "cell_type": "code",
   "execution_count": null,
   "id": "94012d28",
   "metadata": {},
   "outputs": [],
   "source": [
    "fig1 = plt.figure()\n",
    "ax1 = fig1.add_subplot(121)\n",
    "ax1.semilogy(S[:10],'-o',color='r')\n",
    "plt.title('Singular Values - Ecom SVD')\n",
    "ax2 = fig1.add_subplot(122)\n",
    "ax2.plot(np.cumsum(S[:10])/np.sum(S[:10]),'-o',color='b')\n",
    "plt.title('Singular Values: Cumulative Sum - Ecom SVD')\n",
    "plt.show()\n"
   ]
  },
  {
   "cell_type": "code",
   "execution_count": null,
   "id": "4b1aaf18",
   "metadata": {},
   "outputs": [],
   "source": [
    "#method of the Snapshot \n",
    "#take the correlation matrix XX'\n",
    "X_snap = np.corrcoef(X)"
   ]
  },
  {
   "cell_type": "code",
   "execution_count": null,
   "id": "cbfa630b",
   "metadata": {},
   "outputs": [],
   "source": [
    "# Need to find V ans S\n",
    "U_1, S_snap, VT_snap = np.linalg.svd(X_snap,full_matrices=0)\n",
    "S_snap_1 = np.diag(S_snap)\n",
    "#solve for U \n",
    "U_snap = X_snap @ VT_snap @ np.transpose(S_snap_1)"
   ]
  },
  {
   "cell_type": "code",
   "execution_count": null,
   "id": "91129efd",
   "metadata": {},
   "outputs": [],
   "source": [
    "fig2 = plt.figure()\n",
    "ax1 = fig2.add_subplot(121)\n",
    "ax1.semilogy(S_snap[:10],'-o',color='r')\n",
    "plt.title('Singular Values - snap SVD')\n",
    "ax2 = fig2.add_subplot(122)\n",
    "ax2.plot(np.cumsum(S_snap[:10])/np.sum(S_snap[:10]),'-o',color='b')\n",
    "plt.title('Singular Values: Cumulative Sum - snap SVD')\n",
    "plt.show()"
   ]
  },
  {
   "cell_type": "code",
   "execution_count": null,
   "id": "b8af41a5",
   "metadata": {},
   "outputs": [],
   "source": [
    "print(np.shape(U_snap))\n",
    "print(np.shape(U))"
   ]
  },
  {
   "cell_type": "code",
   "execution_count": null,
   "id": "e3a33e67",
   "metadata": {},
   "outputs": [],
   "source": [
    "#compare the first 10 left singular vectors (U) using each method \n",
    "fig3 = plt.figure()\n",
    "ax1 = fig3.add_subplot(121)\n",
    "img_u1 = ax1.imshow(np.reshape(U[:,0],(m,n)).T)\n",
    "img_u1.set_cmap('gray')\n",
    "plt.axis('off')\n",
    "plt.title('Singular vectors - ecom SVD')\n",
    "\n",
    "ax2 = fig3.add_subplot(122)\n",
    "img_u2 = ax2.imshow(np.reshape(U_snap[:,0],(m,n)).T)\n",
    "img_u2.set_cmap('gray')\n",
    "plt.axis('off')\n",
    "plt.title('Singular vectors - snap SVD')\n",
    "\n",
    "plt.show()"
   ]
  },
  {
   "cell_type": "code",
   "execution_count": null,
   "id": "f82e58eb",
   "metadata": {},
   "outputs": [],
   "source": []
  }
 ],
 "metadata": {
  "kernelspec": {
   "display_name": "Python 3 (ipykernel)",
   "language": "python",
   "name": "python3"
  },
  "language_info": {
   "codemirror_mode": {
    "name": "ipython",
    "version": 3
   },
   "file_extension": ".py",
   "mimetype": "text/x-python",
   "name": "python",
   "nbconvert_exporter": "python",
   "pygments_lexer": "ipython3",
   "version": "3.7.11"
  }
 },
 "nbformat": 4,
 "nbformat_minor": 5
}
